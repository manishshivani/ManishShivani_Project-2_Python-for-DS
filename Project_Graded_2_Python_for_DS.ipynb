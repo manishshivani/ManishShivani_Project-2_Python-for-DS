{
 "cells": [
  {
   "cell_type": "markdown",
   "id": "8dc950d4",
   "metadata": {},
   "source": [
    "### 0. Import required libraries"
   ]
  },
  {
   "cell_type": "code",
   "execution_count": 3,
   "id": "62930bd1",
   "metadata": {},
   "outputs": [],
   "source": [
    "import pandas as pd\n",
    "import numpy as np\n",
    "import matplotlib.pyplot as plt\n",
    "import seaborn as sns\n",
    "import warnings\n",
    "warnings.filterwarnings('ignore')\n",
    "\n",
    "from sklearn.preprocessing import StandardScaler,LabelEncoder\n",
    "from sklearn.linear_model import LogisticRegression\n",
    "from scipy import stats\n",
    "from sklearn.cluster import KMeans\n",
    "from scipy.stats import zscore\n",
    "from scipy.spatial import distance\n",
    "from scipy.cluster.hierarchy import linkage, dendrogram, fcluster\n",
    "from sklearn.cluster import AgglomerativeClustering\n",
    "from sklearn.decomposition import PCA\n",
    "from sklearn.model_selection import train_test_split\n",
    "from sklearn import preprocessing\n",
    "from sklearn.preprocessing import Normalizer"
   ]
  },
  {
   "cell_type": "markdown",
   "id": "5ce7ef63",
   "metadata": {},
   "source": [
    "### 1. Load the dataset and display a sample of five rows of the data frame."
   ]
  },
  {
   "cell_type": "code",
   "execution_count": 4,
   "id": "7ab62a1c",
   "metadata": {},
   "outputs": [
    {
     "data": {
      "text/html": [
       "<div>\n",
       "<style scoped>\n",
       "    .dataframe tbody tr th:only-of-type {\n",
       "        vertical-align: middle;\n",
       "    }\n",
       "\n",
       "    .dataframe tbody tr th {\n",
       "        vertical-align: top;\n",
       "    }\n",
       "\n",
       "    .dataframe thead th {\n",
       "        text-align: right;\n",
       "    }\n",
       "</style>\n",
       "<table border=\"1\" class=\"dataframe\">\n",
       "  <thead>\n",
       "    <tr style=\"text-align: right;\">\n",
       "      <th></th>\n",
       "      <th>Unnamed: 0</th>\n",
       "      <th>fit</th>\n",
       "      <th>user_id</th>\n",
       "      <th>bust size</th>\n",
       "      <th>item_id</th>\n",
       "      <th>weight</th>\n",
       "      <th>rating</th>\n",
       "      <th>rented for</th>\n",
       "      <th>review_text</th>\n",
       "      <th>body type</th>\n",
       "      <th>review_summary</th>\n",
       "      <th>category</th>\n",
       "      <th>height</th>\n",
       "      <th>size</th>\n",
       "      <th>age</th>\n",
       "      <th>review_date</th>\n",
       "    </tr>\n",
       "  </thead>\n",
       "  <tbody>\n",
       "    <tr>\n",
       "      <th>0</th>\n",
       "      <td>0</td>\n",
       "      <td>fit</td>\n",
       "      <td>420272</td>\n",
       "      <td>34d</td>\n",
       "      <td>2260466</td>\n",
       "      <td>137lbs</td>\n",
       "      <td>10.0</td>\n",
       "      <td>vacation</td>\n",
       "      <td>An adorable romper! Belt and zipper were a lit...</td>\n",
       "      <td>hourglass</td>\n",
       "      <td>So many compliments!</td>\n",
       "      <td>romper</td>\n",
       "      <td>5' 8\"</td>\n",
       "      <td>14</td>\n",
       "      <td>28.0</td>\n",
       "      <td>April 20, 2016</td>\n",
       "    </tr>\n",
       "    <tr>\n",
       "      <th>1</th>\n",
       "      <td>1</td>\n",
       "      <td>fit</td>\n",
       "      <td>273551</td>\n",
       "      <td>34b</td>\n",
       "      <td>153475</td>\n",
       "      <td>132lbs</td>\n",
       "      <td>10.0</td>\n",
       "      <td>other</td>\n",
       "      <td>I rented this dress for a photo shoot. The the...</td>\n",
       "      <td>straight &amp; narrow</td>\n",
       "      <td>I felt so glamourous!!!</td>\n",
       "      <td>gown</td>\n",
       "      <td>5' 6\"</td>\n",
       "      <td>12</td>\n",
       "      <td>36.0</td>\n",
       "      <td>June 18, 2013</td>\n",
       "    </tr>\n",
       "    <tr>\n",
       "      <th>2</th>\n",
       "      <td>2</td>\n",
       "      <td>fit</td>\n",
       "      <td>360448</td>\n",
       "      <td>NaN</td>\n",
       "      <td>1063761</td>\n",
       "      <td>NaN</td>\n",
       "      <td>10.0</td>\n",
       "      <td>party</td>\n",
       "      <td>This hugged in all the right places! It was a ...</td>\n",
       "      <td>NaN</td>\n",
       "      <td>It was a great time to celebrate the (almost) ...</td>\n",
       "      <td>sheath</td>\n",
       "      <td>5' 4\"</td>\n",
       "      <td>4</td>\n",
       "      <td>116.0</td>\n",
       "      <td>December 14, 2015</td>\n",
       "    </tr>\n",
       "    <tr>\n",
       "      <th>3</th>\n",
       "      <td>3</td>\n",
       "      <td>fit</td>\n",
       "      <td>909926</td>\n",
       "      <td>34c</td>\n",
       "      <td>126335</td>\n",
       "      <td>135lbs</td>\n",
       "      <td>8.0</td>\n",
       "      <td>formal affair</td>\n",
       "      <td>I rented this for my company's black tie award...</td>\n",
       "      <td>pear</td>\n",
       "      <td>Dress arrived on time and in perfect condition.</td>\n",
       "      <td>dress</td>\n",
       "      <td>5' 5\"</td>\n",
       "      <td>8</td>\n",
       "      <td>34.0</td>\n",
       "      <td>February 12, 2014</td>\n",
       "    </tr>\n",
       "    <tr>\n",
       "      <th>4</th>\n",
       "      <td>4</td>\n",
       "      <td>fit</td>\n",
       "      <td>151944</td>\n",
       "      <td>34b</td>\n",
       "      <td>616682</td>\n",
       "      <td>145lbs</td>\n",
       "      <td>10.0</td>\n",
       "      <td>wedding</td>\n",
       "      <td>I have always been petite in my upper body and...</td>\n",
       "      <td>athletic</td>\n",
       "      <td>Was in love with this dress !!!</td>\n",
       "      <td>gown</td>\n",
       "      <td>5' 9\"</td>\n",
       "      <td>12</td>\n",
       "      <td>27.0</td>\n",
       "      <td>September 26, 2016</td>\n",
       "    </tr>\n",
       "  </tbody>\n",
       "</table>\n",
       "</div>"
      ],
      "text/plain": [
       "   Unnamed: 0  fit  user_id bust size  item_id  weight  rating     rented for  \\\n",
       "0           0  fit   420272       34d  2260466  137lbs    10.0       vacation   \n",
       "1           1  fit   273551       34b   153475  132lbs    10.0          other   \n",
       "2           2  fit   360448       NaN  1063761     NaN    10.0          party   \n",
       "3           3  fit   909926       34c   126335  135lbs     8.0  formal affair   \n",
       "4           4  fit   151944       34b   616682  145lbs    10.0        wedding   \n",
       "\n",
       "                                         review_text          body type  \\\n",
       "0  An adorable romper! Belt and zipper were a lit...          hourglass   \n",
       "1  I rented this dress for a photo shoot. The the...  straight & narrow   \n",
       "2  This hugged in all the right places! It was a ...                NaN   \n",
       "3  I rented this for my company's black tie award...               pear   \n",
       "4  I have always been petite in my upper body and...           athletic   \n",
       "\n",
       "                                      review_summary category height  size  \\\n",
       "0                               So many compliments!   romper  5' 8\"    14   \n",
       "1                            I felt so glamourous!!!     gown  5' 6\"    12   \n",
       "2  It was a great time to celebrate the (almost) ...   sheath  5' 4\"     4   \n",
       "3   Dress arrived on time and in perfect condition.     dress  5' 5\"     8   \n",
       "4                    Was in love with this dress !!!     gown  5' 9\"    12   \n",
       "\n",
       "     age         review_date  \n",
       "0   28.0      April 20, 2016  \n",
       "1   36.0       June 18, 2013  \n",
       "2  116.0   December 14, 2015  \n",
       "3   34.0   February 12, 2014  \n",
       "4   27.0  September 26, 2016  "
      ]
     },
     "execution_count": 4,
     "metadata": {},
     "output_type": "execute_result"
    }
   ],
   "source": [
    "df = pd.read_csv('renttherunway.csv')\n",
    "df.head()"
   ]
  },
  {
   "cell_type": "markdown",
   "id": "0b28a178",
   "metadata": {},
   "source": [
    "### 2. Check the first few samples, shape, info of the data and try to familiarize yourself with different features"
   ]
  },
  {
   "cell_type": "code",
   "execution_count": 5,
   "id": "e258d1f6",
   "metadata": {},
   "outputs": [
    {
     "data": {
      "text/plain": [
       "(192544, 16)"
      ]
     },
     "execution_count": 5,
     "metadata": {},
     "output_type": "execute_result"
    }
   ],
   "source": [
    "df.shape"
   ]
  },
  {
   "cell_type": "code",
   "execution_count": 6,
   "id": "8cc6efa4",
   "metadata": {},
   "outputs": [
    {
     "name": "stdout",
     "output_type": "stream",
     "text": [
      "<class 'pandas.core.frame.DataFrame'>\n",
      "RangeIndex: 192544 entries, 0 to 192543\n",
      "Data columns (total 16 columns):\n",
      " #   Column          Non-Null Count   Dtype  \n",
      "---  ------          --------------   -----  \n",
      " 0   Unnamed: 0      192544 non-null  int64  \n",
      " 1   fit             192544 non-null  object \n",
      " 2   user_id         192544 non-null  int64  \n",
      " 3   bust size       174133 non-null  object \n",
      " 4   item_id         192544 non-null  int64  \n",
      " 5   weight          162562 non-null  object \n",
      " 6   rating          192462 non-null  float64\n",
      " 7   rented for      192534 non-null  object \n",
      " 8   review_text     192482 non-null  object \n",
      " 9   body type       177907 non-null  object \n",
      " 10  review_summary  192199 non-null  object \n",
      " 11  category        192544 non-null  object \n",
      " 12  height          191867 non-null  object \n",
      " 13  size            192544 non-null  int64  \n",
      " 14  age             191584 non-null  float64\n",
      " 15  review_date     192544 non-null  object \n",
      "dtypes: float64(2), int64(4), object(10)\n",
      "memory usage: 23.5+ MB\n"
     ]
    }
   ],
   "source": [
    "df.info()"
   ]
  },
  {
   "cell_type": "code",
   "execution_count": 8,
   "id": "c7191076",
   "metadata": {},
   "outputs": [
    {
     "data": {
      "text/plain": [
       "Unnamed: 0        192544\n",
       "fit                    3\n",
       "user_id           105571\n",
       "bust size            106\n",
       "item_id             5850\n",
       "weight               190\n",
       "rating                 5\n",
       "rented for             9\n",
       "review_text       191027\n",
       "body type              7\n",
       "review_summary    154736\n",
       "category              68\n",
       "height                24\n",
       "size                  56\n",
       "age                   89\n",
       "review_date         2274\n",
       "dtype: int64"
      ]
     },
     "execution_count": 8,
     "metadata": {},
     "output_type": "execute_result"
    }
   ],
   "source": [
    "df.nunique()"
   ]
  },
  {
   "cell_type": "markdown",
   "id": "816524bb",
   "metadata": {},
   "source": [
    "## Data cleansing and Exploratory data analysis"
   ]
  },
  {
   "cell_type": "markdown",
   "id": "4554af2a",
   "metadata": {},
   "source": [
    "### 3. Check if there are any duplicate records in the dataset? If any, drop themS"
   ]
  },
  {
   "cell_type": "code",
   "execution_count": 9,
   "id": "3e075f50",
   "metadata": {},
   "outputs": [
    {
     "data": {
      "text/plain": [
       "0"
      ]
     },
     "execution_count": 9,
     "metadata": {},
     "output_type": "execute_result"
    }
   ],
   "source": [
    "len(df[df.duplicated()])"
   ]
  },
  {
   "cell_type": "markdown",
   "id": "3104f99d",
   "metadata": {},
   "source": [
    "### 4. Drop the columns which you think redundant for the analysis."
   ]
  },
  {
   "cell_type": "code",
   "execution_count": 10,
   "id": "df238a95",
   "metadata": {},
   "outputs": [],
   "source": [
    "df=df.drop(columns=['Unnamed: 0','user_id','item_id','review_text','review_summary','review_date'],axis=1)"
   ]
  },
  {
   "cell_type": "code",
   "execution_count": 11,
   "id": "d1ba18fc",
   "metadata": {},
   "outputs": [
    {
     "data": {
      "text/html": [
       "<div>\n",
       "<style scoped>\n",
       "    .dataframe tbody tr th:only-of-type {\n",
       "        vertical-align: middle;\n",
       "    }\n",
       "\n",
       "    .dataframe tbody tr th {\n",
       "        vertical-align: top;\n",
       "    }\n",
       "\n",
       "    .dataframe thead th {\n",
       "        text-align: right;\n",
       "    }\n",
       "</style>\n",
       "<table border=\"1\" class=\"dataframe\">\n",
       "  <thead>\n",
       "    <tr style=\"text-align: right;\">\n",
       "      <th></th>\n",
       "      <th>fit</th>\n",
       "      <th>bust size</th>\n",
       "      <th>weight</th>\n",
       "      <th>rating</th>\n",
       "      <th>rented for</th>\n",
       "      <th>body type</th>\n",
       "      <th>category</th>\n",
       "      <th>height</th>\n",
       "      <th>size</th>\n",
       "      <th>age</th>\n",
       "    </tr>\n",
       "  </thead>\n",
       "  <tbody>\n",
       "    <tr>\n",
       "      <th>0</th>\n",
       "      <td>fit</td>\n",
       "      <td>34d</td>\n",
       "      <td>137lbs</td>\n",
       "      <td>10.0</td>\n",
       "      <td>vacation</td>\n",
       "      <td>hourglass</td>\n",
       "      <td>romper</td>\n",
       "      <td>5' 8\"</td>\n",
       "      <td>14</td>\n",
       "      <td>28.0</td>\n",
       "    </tr>\n",
       "    <tr>\n",
       "      <th>1</th>\n",
       "      <td>fit</td>\n",
       "      <td>34b</td>\n",
       "      <td>132lbs</td>\n",
       "      <td>10.0</td>\n",
       "      <td>other</td>\n",
       "      <td>straight &amp; narrow</td>\n",
       "      <td>gown</td>\n",
       "      <td>5' 6\"</td>\n",
       "      <td>12</td>\n",
       "      <td>36.0</td>\n",
       "    </tr>\n",
       "    <tr>\n",
       "      <th>2</th>\n",
       "      <td>fit</td>\n",
       "      <td>NaN</td>\n",
       "      <td>NaN</td>\n",
       "      <td>10.0</td>\n",
       "      <td>party</td>\n",
       "      <td>NaN</td>\n",
       "      <td>sheath</td>\n",
       "      <td>5' 4\"</td>\n",
       "      <td>4</td>\n",
       "      <td>116.0</td>\n",
       "    </tr>\n",
       "    <tr>\n",
       "      <th>3</th>\n",
       "      <td>fit</td>\n",
       "      <td>34c</td>\n",
       "      <td>135lbs</td>\n",
       "      <td>8.0</td>\n",
       "      <td>formal affair</td>\n",
       "      <td>pear</td>\n",
       "      <td>dress</td>\n",
       "      <td>5' 5\"</td>\n",
       "      <td>8</td>\n",
       "      <td>34.0</td>\n",
       "    </tr>\n",
       "    <tr>\n",
       "      <th>4</th>\n",
       "      <td>fit</td>\n",
       "      <td>34b</td>\n",
       "      <td>145lbs</td>\n",
       "      <td>10.0</td>\n",
       "      <td>wedding</td>\n",
       "      <td>athletic</td>\n",
       "      <td>gown</td>\n",
       "      <td>5' 9\"</td>\n",
       "      <td>12</td>\n",
       "      <td>27.0</td>\n",
       "    </tr>\n",
       "  </tbody>\n",
       "</table>\n",
       "</div>"
      ],
      "text/plain": [
       "   fit bust size  weight  rating     rented for          body type category  \\\n",
       "0  fit       34d  137lbs    10.0       vacation          hourglass   romper   \n",
       "1  fit       34b  132lbs    10.0          other  straight & narrow     gown   \n",
       "2  fit       NaN     NaN    10.0          party                NaN   sheath   \n",
       "3  fit       34c  135lbs     8.0  formal affair               pear    dress   \n",
       "4  fit       34b  145lbs    10.0        wedding           athletic     gown   \n",
       "\n",
       "  height  size    age  \n",
       "0  5' 8\"    14   28.0  \n",
       "1  5' 6\"    12   36.0  \n",
       "2  5' 4\"     4  116.0  \n",
       "3  5' 5\"     8   34.0  \n",
       "4  5' 9\"    12   27.0  "
      ]
     },
     "execution_count": 11,
     "metadata": {},
     "output_type": "execute_result"
    }
   ],
   "source": [
    "df.head()"
   ]
  },
  {
   "cell_type": "markdown",
   "id": "becf5e17",
   "metadata": {},
   "source": [
    "### 5. Check the column 'weight', Is there any presence of string data? If yes, remove the string data and convert to float."
   ]
  },
  {
   "cell_type": "code",
   "execution_count": 12,
   "id": "3c56ce95",
   "metadata": {},
   "outputs": [
    {
     "data": {
      "text/html": [
       "<div>\n",
       "<style scoped>\n",
       "    .dataframe tbody tr th:only-of-type {\n",
       "        vertical-align: middle;\n",
       "    }\n",
       "\n",
       "    .dataframe tbody tr th {\n",
       "        vertical-align: top;\n",
       "    }\n",
       "\n",
       "    .dataframe thead th {\n",
       "        text-align: right;\n",
       "    }\n",
       "</style>\n",
       "<table border=\"1\" class=\"dataframe\">\n",
       "  <thead>\n",
       "    <tr style=\"text-align: right;\">\n",
       "      <th></th>\n",
       "      <th>fit</th>\n",
       "      <th>bust size</th>\n",
       "      <th>weight</th>\n",
       "      <th>rating</th>\n",
       "      <th>rented for</th>\n",
       "      <th>body type</th>\n",
       "      <th>category</th>\n",
       "      <th>height</th>\n",
       "      <th>size</th>\n",
       "      <th>age</th>\n",
       "    </tr>\n",
       "  </thead>\n",
       "  <tbody>\n",
       "    <tr>\n",
       "      <th>0</th>\n",
       "      <td>fit</td>\n",
       "      <td>34d</td>\n",
       "      <td>137.0</td>\n",
       "      <td>10.0</td>\n",
       "      <td>vacation</td>\n",
       "      <td>hourglass</td>\n",
       "      <td>romper</td>\n",
       "      <td>5' 8\"</td>\n",
       "      <td>14</td>\n",
       "      <td>28.0</td>\n",
       "    </tr>\n",
       "    <tr>\n",
       "      <th>1</th>\n",
       "      <td>fit</td>\n",
       "      <td>34b</td>\n",
       "      <td>132.0</td>\n",
       "      <td>10.0</td>\n",
       "      <td>other</td>\n",
       "      <td>straight &amp; narrow</td>\n",
       "      <td>gown</td>\n",
       "      <td>5' 6\"</td>\n",
       "      <td>12</td>\n",
       "      <td>36.0</td>\n",
       "    </tr>\n",
       "    <tr>\n",
       "      <th>2</th>\n",
       "      <td>fit</td>\n",
       "      <td>NaN</td>\n",
       "      <td>NaN</td>\n",
       "      <td>10.0</td>\n",
       "      <td>party</td>\n",
       "      <td>NaN</td>\n",
       "      <td>sheath</td>\n",
       "      <td>5' 4\"</td>\n",
       "      <td>4</td>\n",
       "      <td>116.0</td>\n",
       "    </tr>\n",
       "    <tr>\n",
       "      <th>3</th>\n",
       "      <td>fit</td>\n",
       "      <td>34c</td>\n",
       "      <td>135.0</td>\n",
       "      <td>8.0</td>\n",
       "      <td>formal affair</td>\n",
       "      <td>pear</td>\n",
       "      <td>dress</td>\n",
       "      <td>5' 5\"</td>\n",
       "      <td>8</td>\n",
       "      <td>34.0</td>\n",
       "    </tr>\n",
       "    <tr>\n",
       "      <th>4</th>\n",
       "      <td>fit</td>\n",
       "      <td>34b</td>\n",
       "      <td>145.0</td>\n",
       "      <td>10.0</td>\n",
       "      <td>wedding</td>\n",
       "      <td>athletic</td>\n",
       "      <td>gown</td>\n",
       "      <td>5' 9\"</td>\n",
       "      <td>12</td>\n",
       "      <td>27.0</td>\n",
       "    </tr>\n",
       "  </tbody>\n",
       "</table>\n",
       "</div>"
      ],
      "text/plain": [
       "   fit bust size  weight  rating     rented for          body type category  \\\n",
       "0  fit       34d   137.0    10.0       vacation          hourglass   romper   \n",
       "1  fit       34b   132.0    10.0          other  straight & narrow     gown   \n",
       "2  fit       NaN     NaN    10.0          party                NaN   sheath   \n",
       "3  fit       34c   135.0     8.0  formal affair               pear    dress   \n",
       "4  fit       34b   145.0    10.0        wedding           athletic     gown   \n",
       "\n",
       "  height  size    age  \n",
       "0  5' 8\"    14   28.0  \n",
       "1  5' 6\"    12   36.0  \n",
       "2  5' 4\"     4  116.0  \n",
       "3  5' 5\"     8   34.0  \n",
       "4  5' 9\"    12   27.0  "
      ]
     },
     "execution_count": 12,
     "metadata": {},
     "output_type": "execute_result"
    }
   ],
   "source": [
    "df['weight']=df['weight'].str.replace('lbs','').astype(float)\n",
    "df.head()"
   ]
  },
  {
   "cell_type": "code",
   "execution_count": 13,
   "id": "bf5d24db",
   "metadata": {},
   "outputs": [
    {
     "data": {
      "text/plain": [
       "dtype('float64')"
      ]
     },
     "execution_count": 13,
     "metadata": {},
     "output_type": "execute_result"
    }
   ],
   "source": [
    "df['weight'].dtype"
   ]
  },
  {
   "cell_type": "markdown",
   "id": "e9d4818d",
   "metadata": {},
   "source": [
    "### 6. Check the unique categories for the column 'rented for' and group 'party:cocktail' category with 'party'."
   ]
  },
  {
   "cell_type": "code",
   "execution_count": 14,
   "id": "07c33613",
   "metadata": {},
   "outputs": [
    {
     "data": {
      "text/plain": [
       "array(['vacation', 'other', 'party', 'formal affair', 'wedding', 'date',\n",
       "       'everyday', 'work', nan, 'party: cocktail'], dtype=object)"
      ]
     },
     "execution_count": 14,
     "metadata": {},
     "output_type": "execute_result"
    }
   ],
   "source": [
    "df['rented for'].unique()"
   ]
  },
  {
   "cell_type": "code",
   "execution_count": 15,
   "id": "9a65e7a5",
   "metadata": {},
   "outputs": [
    {
     "data": {
      "text/plain": [
       "wedding          57784\n",
       "formal affair    40408\n",
       "party            35627\n",
       "everyday         16822\n",
       "other            15388\n",
       "work             15042\n",
       "date              7388\n",
       "vacation          4075\n",
       "Name: rented for, dtype: int64"
      ]
     },
     "execution_count": 15,
     "metadata": {},
     "output_type": "execute_result"
    }
   ],
   "source": [
    "df['rented for']=df['rented for'].replace({'party: cocktail':'party'})\n",
    "df['rented for'].value_counts()"
   ]
  },
  {
   "cell_type": "markdown",
   "id": "d9c5f2b5",
   "metadata": {},
   "source": [
    "### 7. The column 'height' is in feet with a quotation mark, Convert to inches with float datatype."
   ]
  },
  {
   "cell_type": "code",
   "execution_count": 16,
   "id": "11a3b89f",
   "metadata": {},
   "outputs": [],
   "source": [
    "def Height_conversion(x):\n",
    "  if x is np.NaN:\n",
    "    return x\n",
    "  else:\n",
    "    ft,inc = x.split(\"'\")\n",
    "    inches = inc[1:-1]\n",
    "    return ((12*int(ft)) + int(inches))\n",
    "\n",
    "df['height'] = df['height'].apply(Height_conversion)"
   ]
  },
  {
   "cell_type": "code",
   "execution_count": 17,
   "id": "6c3f95f2",
   "metadata": {},
   "outputs": [
    {
     "data": {
      "text/plain": [
       "0         68.0\n",
       "1         66.0\n",
       "2         64.0\n",
       "3         65.0\n",
       "4         69.0\n",
       "          ... \n",
       "192539    69.0\n",
       "192540    61.0\n",
       "192541    68.0\n",
       "192542    66.0\n",
       "192543    66.0\n",
       "Name: height, Length: 192544, dtype: float64"
      ]
     },
     "execution_count": 17,
     "metadata": {},
     "output_type": "execute_result"
    }
   ],
   "source": [
    "df['height']"
   ]
  },
  {
   "cell_type": "markdown",
   "id": "bc60ff96",
   "metadata": {},
   "source": [
    "### 8. Check for missing values in each column of the dataset? If it exists, impute them with appropriate methods."
   ]
  },
  {
   "cell_type": "code",
   "execution_count": 18,
   "id": "895f1204",
   "metadata": {},
   "outputs": [
    {
     "data": {
      "text/plain": [
       "fit            0.000000\n",
       "bust size      9.561970\n",
       "weight        15.571506\n",
       "rating         0.042588\n",
       "rented for     0.005194\n",
       "body type      7.601899\n",
       "category       0.000000\n",
       "height         0.351608\n",
       "size           0.000000\n",
       "age            0.498587\n",
       "dtype: float64"
      ]
     },
     "execution_count": 18,
     "metadata": {},
     "output_type": "execute_result"
    }
   ],
   "source": [
    "df.isnull().sum()/len(df)*100"
   ]
  },
  {
   "cell_type": "code",
   "execution_count": 19,
   "id": "5358f90f",
   "metadata": {},
   "outputs": [],
   "source": [
    "import random\n",
    "\n",
    "top10_bustsize = df['bust size'].value_counts().sort_values(ascending=False).head(10).index.tolist()\n",
    "\n",
    "def Bust_Replacement(x):\n",
    "  if x is np.NaN:\n",
    "    return np.random.choice(top10_bustsize)\n",
    "  else:\n",
    "    return x\n",
    "\n",
    "df['bust size'] = df['bust size'].apply(Bust_Replacement)"
   ]
  },
  {
   "cell_type": "code",
   "execution_count": 20,
   "id": "f5bdc33c",
   "metadata": {},
   "outputs": [],
   "source": [
    "top3_bodytype = df['body type'].value_counts().sort_values(ascending=False).head(3).index.tolist()\n",
    "\n",
    "def BodyType_Replacement(x):\n",
    "  if x is np.NaN:\n",
    "    return np.random.choice(top3_bodytype)\n",
    "  else:\n",
    "    return x\n",
    "\n",
    "df['body type'] = df['body type'].apply(BodyType_Replacement)"
   ]
  },
  {
   "cell_type": "code",
   "execution_count": 21,
   "id": "5bae1666",
   "metadata": {},
   "outputs": [],
   "source": [
    "top3_rentedFor = df['rented for'].value_counts().sort_values(ascending=False).head(3).index.tolist()\n",
    "\n",
    "def RentedFor_Replacement(x):\n",
    "  if x is np.NaN:\n",
    "    return np.random.choice(top3_rentedFor)\n",
    "  else:\n",
    "    return x\n",
    "\n",
    "df['rented for'] = df['rented for'].apply(RentedFor_Replacement)"
   ]
  },
  {
   "cell_type": "code",
   "execution_count": 22,
   "id": "32666eda",
   "metadata": {},
   "outputs": [
    {
     "data": {
      "text/html": [
       "<div>\n",
       "<style scoped>\n",
       "    .dataframe tbody tr th:only-of-type {\n",
       "        vertical-align: middle;\n",
       "    }\n",
       "\n",
       "    .dataframe tbody tr th {\n",
       "        vertical-align: top;\n",
       "    }\n",
       "\n",
       "    .dataframe thead th {\n",
       "        text-align: right;\n",
       "    }\n",
       "</style>\n",
       "<table border=\"1\" class=\"dataframe\">\n",
       "  <thead>\n",
       "    <tr style=\"text-align: right;\">\n",
       "      <th></th>\n",
       "      <th>fit</th>\n",
       "      <th>bust size</th>\n",
       "      <th>weight</th>\n",
       "      <th>rating</th>\n",
       "      <th>rented for</th>\n",
       "      <th>body type</th>\n",
       "      <th>category</th>\n",
       "      <th>height</th>\n",
       "      <th>size</th>\n",
       "      <th>age</th>\n",
       "    </tr>\n",
       "  </thead>\n",
       "  <tbody>\n",
       "    <tr>\n",
       "      <th>0</th>\n",
       "      <td>fit</td>\n",
       "      <td>34d</td>\n",
       "      <td>137.0</td>\n",
       "      <td>10.0</td>\n",
       "      <td>vacation</td>\n",
       "      <td>hourglass</td>\n",
       "      <td>romper</td>\n",
       "      <td>68.0</td>\n",
       "      <td>14</td>\n",
       "      <td>28.0</td>\n",
       "    </tr>\n",
       "    <tr>\n",
       "      <th>1</th>\n",
       "      <td>fit</td>\n",
       "      <td>34b</td>\n",
       "      <td>132.0</td>\n",
       "      <td>10.0</td>\n",
       "      <td>other</td>\n",
       "      <td>straight &amp; narrow</td>\n",
       "      <td>gown</td>\n",
       "      <td>66.0</td>\n",
       "      <td>12</td>\n",
       "      <td>36.0</td>\n",
       "    </tr>\n",
       "    <tr>\n",
       "      <th>2</th>\n",
       "      <td>fit</td>\n",
       "      <td>32d</td>\n",
       "      <td>NaN</td>\n",
       "      <td>10.0</td>\n",
       "      <td>party</td>\n",
       "      <td>pear</td>\n",
       "      <td>sheath</td>\n",
       "      <td>64.0</td>\n",
       "      <td>4</td>\n",
       "      <td>116.0</td>\n",
       "    </tr>\n",
       "    <tr>\n",
       "      <th>3</th>\n",
       "      <td>fit</td>\n",
       "      <td>34c</td>\n",
       "      <td>135.0</td>\n",
       "      <td>8.0</td>\n",
       "      <td>formal affair</td>\n",
       "      <td>pear</td>\n",
       "      <td>dress</td>\n",
       "      <td>65.0</td>\n",
       "      <td>8</td>\n",
       "      <td>34.0</td>\n",
       "    </tr>\n",
       "    <tr>\n",
       "      <th>4</th>\n",
       "      <td>fit</td>\n",
       "      <td>34b</td>\n",
       "      <td>145.0</td>\n",
       "      <td>10.0</td>\n",
       "      <td>wedding</td>\n",
       "      <td>athletic</td>\n",
       "      <td>gown</td>\n",
       "      <td>69.0</td>\n",
       "      <td>12</td>\n",
       "      <td>27.0</td>\n",
       "    </tr>\n",
       "  </tbody>\n",
       "</table>\n",
       "</div>"
      ],
      "text/plain": [
       "   fit bust size  weight  rating     rented for          body type category  \\\n",
       "0  fit       34d   137.0    10.0       vacation          hourglass   romper   \n",
       "1  fit       34b   132.0    10.0          other  straight & narrow     gown   \n",
       "2  fit       32d     NaN    10.0          party               pear   sheath   \n",
       "3  fit       34c   135.0     8.0  formal affair               pear    dress   \n",
       "4  fit       34b   145.0    10.0        wedding           athletic     gown   \n",
       "\n",
       "   height  size    age  \n",
       "0    68.0    14   28.0  \n",
       "1    66.0    12   36.0  \n",
       "2    64.0     4  116.0  \n",
       "3    65.0     8   34.0  \n",
       "4    69.0    12   27.0  "
      ]
     },
     "execution_count": 22,
     "metadata": {},
     "output_type": "execute_result"
    }
   ],
   "source": [
    "#Replacing the missing values with mean\n",
    "df['age']=df['age'].fillna(df['age'].mean())\n",
    "df['height']=df['height'].fillna(df['height'].mean())\n",
    "df['rating']=df['rating'].fillna(df['rating'].mean())\n",
    "df.head()"
   ]
  },
  {
   "cell_type": "code",
   "execution_count": 23,
   "id": "627e2fbe",
   "metadata": {},
   "outputs": [
    {
     "data": {
      "image/png": "[encoded data removed]",
      "text/plain": [
       "<Figure size 1000x600 with 2 Axes>"
      ]
     },
     "metadata": {},
     "output_type": "display_data"
    }
   ],
   "source": [
    "plt.figure(figsize=(10, 6))\n",
    "sns.heatmap(df.corr(), annot=True, cmap='Blues')\n",
    "plt.show()"
   ]
  },
  {
   "cell_type": "code",
   "execution_count": 24,
   "id": "fa41ab9f",
   "metadata": {},
   "outputs": [
    {
     "name": "stdout",
     "output_type": "stream",
     "text": [
      "        fit bust size      weight  rating     rented for          body type  \\\n",
      "0       fit       34d  137.000000    10.0       vacation          hourglass   \n",
      "1       fit       34b  132.000000    10.0          other  straight & narrow   \n",
      "2       fit       32d  102.399997    10.0          party               pear   \n",
      "3       fit       34c  135.000000     8.0  formal affair               pear   \n",
      "4       fit       34b  145.000000    10.0        wedding           athletic   \n",
      "...     ...       ...         ...     ...            ...                ...   \n",
      "192539  fit      34dd  140.000000    10.0           work          hourglass   \n",
      "192540  fit       32c  100.000000    10.0           work             petite   \n",
      "192541  fit       36a  135.000000     6.0       everyday  straight & narrow   \n",
      "192542  fit       36c  165.000000    10.0        wedding               pear   \n",
      "192543  fit       36b  155.000000    10.0        wedding           athletic   \n",
      "\n",
      "        category  height  size    age  \n",
      "0         romper    68.0    14   28.0  \n",
      "1           gown    66.0    12   36.0  \n",
      "2         sheath    64.0     4  116.0  \n",
      "3          dress    65.0     8   34.0  \n",
      "4           gown    69.0    12   27.0  \n",
      "...          ...     ...   ...    ...  \n",
      "192539  jumpsuit    69.0     8   42.0  \n",
      "192540     dress    61.0     4   29.0  \n",
      "192541     dress    68.0     8   31.0  \n",
      "192542     dress    66.0    16   31.0  \n",
      "192543      gown    66.0    16   30.0  \n",
      "\n",
      "[192544 rows x 10 columns]\n"
     ]
    }
   ],
   "source": [
    "from sklearn.model_selection import train_test_split\n",
    "from sklearn.linear_model import LinearRegression\n",
    "\n",
    "# Assuming you have a DataFrame called 'df' with a target variable 'target' and other relevant features\n",
    "\n",
    "# Step 1: Split the dataset into two parts based on missingness of the target variable\n",
    "df_missing = df[df['weight'].isnull()]  # Dataset with missing values\n",
    "df_non_missing = df[~df['weight'].isnull()]  # Dataset without missing values\n",
    "\n",
    "# Step 2: Identify relevant features for predicting missing values\n",
    "features = ['height', 'size', 'age']  # Add relevant feature names\n",
    "\n",
    "# Step 3: Build a predictive model using the dataset without missing values\n",
    "X_train, X_test, y_train, y_test = train_test_split(df_non_missing[features], df_non_missing['weight'], test_size=0.3)\n",
    "model = LinearRegression()  # Choose an appropriate model\n",
    "model.fit(X_train, y_train)\n",
    "\n",
    "# Step 4: Use the trained model to predict missing values\n",
    "missing_predictions = model.predict(df_missing[features])\n",
    "\n",
    "# Step 5: Replace missing values with the predicted values in the original dataset\n",
    "df.loc[df['weight'].isnull(), 'weight'] = missing_predictions\n",
    "\n",
    "# Print the updated DataFrame\n",
    "print(df)"
   ]
  },
  {
   "cell_type": "code",
   "execution_count": 25,
   "id": "81d70b57",
   "metadata": {},
   "outputs": [
    {
     "data": {
      "text/plain": [
       "fit           0.0\n",
       "bust size     0.0\n",
       "weight        0.0\n",
       "rating        0.0\n",
       "rented for    0.0\n",
       "body type     0.0\n",
       "category      0.0\n",
       "height        0.0\n",
       "size          0.0\n",
       "age           0.0\n",
       "dtype: float64"
      ]
     },
     "execution_count": 25,
     "metadata": {},
     "output_type": "execute_result"
    }
   ],
   "source": [
    "df.isnull().sum()/len(df)*100"
   ]
  },
  {
   "cell_type": "markdown",
   "id": "5000b0a3",
   "metadata": {},
   "source": [
    "### 9. Check the statistical summary for the numerical and categorical columns and write your findings."
   ]
  },
  {
   "cell_type": "code",
   "execution_count": 26,
   "id": "5ee6d2b5",
   "metadata": {},
   "outputs": [
    {
     "data": {
      "text/html": [
       "<div>\n",
       "<style scoped>\n",
       "    .dataframe tbody tr th:only-of-type {\n",
       "        vertical-align: middle;\n",
       "    }\n",
       "\n",
       "    .dataframe tbody tr th {\n",
       "        vertical-align: top;\n",
       "    }\n",
       "\n",
       "    .dataframe thead th {\n",
       "        text-align: right;\n",
       "    }\n",
       "</style>\n",
       "<table border=\"1\" class=\"dataframe\">\n",
       "  <thead>\n",
       "    <tr style=\"text-align: right;\">\n",
       "      <th></th>\n",
       "      <th>weight</th>\n",
       "      <th>rating</th>\n",
       "      <th>height</th>\n",
       "      <th>size</th>\n",
       "      <th>age</th>\n",
       "    </tr>\n",
       "  </thead>\n",
       "  <tbody>\n",
       "    <tr>\n",
       "      <th>count</th>\n",
       "      <td>192544.000000</td>\n",
       "      <td>192544.000000</td>\n",
       "      <td>192544.000000</td>\n",
       "      <td>192544.000000</td>\n",
       "      <td>192544.000000</td>\n",
       "    </tr>\n",
       "    <tr>\n",
       "      <th>mean</th>\n",
       "      <td>139.129641</td>\n",
       "      <td>9.092371</td>\n",
       "      <td>65.310621</td>\n",
       "      <td>12.245175</td>\n",
       "      <td>33.871017</td>\n",
       "    </tr>\n",
       "    <tr>\n",
       "      <th>std</th>\n",
       "      <td>22.530633</td>\n",
       "      <td>1.429740</td>\n",
       "      <td>2.658793</td>\n",
       "      <td>8.494877</td>\n",
       "      <td>8.037969</td>\n",
       "    </tr>\n",
       "    <tr>\n",
       "      <th>min</th>\n",
       "      <td>50.000000</td>\n",
       "      <td>2.000000</td>\n",
       "      <td>54.000000</td>\n",
       "      <td>0.000000</td>\n",
       "      <td>0.000000</td>\n",
       "    </tr>\n",
       "    <tr>\n",
       "      <th>25%</th>\n",
       "      <td>125.000000</td>\n",
       "      <td>8.000000</td>\n",
       "      <td>63.000000</td>\n",
       "      <td>8.000000</td>\n",
       "      <td>29.000000</td>\n",
       "    </tr>\n",
       "    <tr>\n",
       "      <th>50%</th>\n",
       "      <td>135.000000</td>\n",
       "      <td>10.000000</td>\n",
       "      <td>65.000000</td>\n",
       "      <td>12.000000</td>\n",
       "      <td>32.000000</td>\n",
       "    </tr>\n",
       "    <tr>\n",
       "      <th>75%</th>\n",
       "      <td>150.000000</td>\n",
       "      <td>10.000000</td>\n",
       "      <td>67.000000</td>\n",
       "      <td>16.000000</td>\n",
       "      <td>37.000000</td>\n",
       "    </tr>\n",
       "    <tr>\n",
       "      <th>max</th>\n",
       "      <td>300.000000</td>\n",
       "      <td>10.000000</td>\n",
       "      <td>78.000000</td>\n",
       "      <td>58.000000</td>\n",
       "      <td>117.000000</td>\n",
       "    </tr>\n",
       "  </tbody>\n",
       "</table>\n",
       "</div>"
      ],
      "text/plain": [
       "              weight         rating         height           size  \\\n",
       "count  192544.000000  192544.000000  192544.000000  192544.000000   \n",
       "mean      139.129641       9.092371      65.310621      12.245175   \n",
       "std        22.530633       1.429740       2.658793       8.494877   \n",
       "min        50.000000       2.000000      54.000000       0.000000   \n",
       "25%       125.000000       8.000000      63.000000       8.000000   \n",
       "50%       135.000000      10.000000      65.000000      12.000000   \n",
       "75%       150.000000      10.000000      67.000000      16.000000   \n",
       "max       300.000000      10.000000      78.000000      58.000000   \n",
       "\n",
       "                 age  \n",
       "count  192544.000000  \n",
       "mean       33.871017  \n",
       "std         8.037969  \n",
       "min         0.000000  \n",
       "25%        29.000000  \n",
       "50%        32.000000  \n",
       "75%        37.000000  \n",
       "max       117.000000  "
      ]
     },
     "execution_count": 26,
     "metadata": {},
     "output_type": "execute_result"
    }
   ],
   "source": [
    "df.describe()"
   ]
  },
  {
   "cell_type": "code",
   "execution_count": 27,
   "id": "d6510c3a",
   "metadata": {},
   "outputs": [
    {
     "data": {
      "text/html": [
       "<div>\n",
       "<style scoped>\n",
       "    .dataframe tbody tr th:only-of-type {\n",
       "        vertical-align: middle;\n",
       "    }\n",
       "\n",
       "    .dataframe tbody tr th {\n",
       "        vertical-align: top;\n",
       "    }\n",
       "\n",
       "    .dataframe thead th {\n",
       "        text-align: right;\n",
       "    }\n",
       "</style>\n",
       "<table border=\"1\" class=\"dataframe\">\n",
       "  <thead>\n",
       "    <tr style=\"text-align: right;\">\n",
       "      <th></th>\n",
       "      <th>fit</th>\n",
       "      <th>bust size</th>\n",
       "      <th>rented for</th>\n",
       "      <th>body type</th>\n",
       "      <th>category</th>\n",
       "    </tr>\n",
       "  </thead>\n",
       "  <tbody>\n",
       "    <tr>\n",
       "      <th>count</th>\n",
       "      <td>192544</td>\n",
       "      <td>192544</td>\n",
       "      <td>192544</td>\n",
       "      <td>192544</td>\n",
       "      <td>192544</td>\n",
       "    </tr>\n",
       "    <tr>\n",
       "      <th>unique</th>\n",
       "      <td>3</td>\n",
       "      <td>106</td>\n",
       "      <td>8</td>\n",
       "      <td>7</td>\n",
       "      <td>68</td>\n",
       "    </tr>\n",
       "    <tr>\n",
       "      <th>top</th>\n",
       "      <td>fit</td>\n",
       "      <td>34b</td>\n",
       "      <td>wedding</td>\n",
       "      <td>hourglass</td>\n",
       "      <td>dress</td>\n",
       "    </tr>\n",
       "    <tr>\n",
       "      <th>freq</th>\n",
       "      <td>142058</td>\n",
       "      <td>29123</td>\n",
       "      <td>57790</td>\n",
       "      <td>60304</td>\n",
       "      <td>92884</td>\n",
       "    </tr>\n",
       "  </tbody>\n",
       "</table>\n",
       "</div>"
      ],
      "text/plain": [
       "           fit bust size rented for  body type category\n",
       "count   192544    192544     192544     192544   192544\n",
       "unique       3       106          8          7       68\n",
       "top        fit       34b    wedding  hourglass    dress\n",
       "freq    142058     29123      57790      60304    92884"
      ]
     },
     "execution_count": 27,
     "metadata": {},
     "output_type": "execute_result"
    }
   ],
   "source": [
    "df.describe(include='O')"
   ]
  },
  {
   "cell_type": "markdown",
   "id": "9fb1f3f5",
   "metadata": {},
   "source": [
    "### 10. Are there outliers present in the column age? If yes, treat them with the appropriate method."
   ]
  },
  {
   "cell_type": "code",
   "execution_count": 28,
   "id": "9967d306",
   "metadata": {},
   "outputs": [
    {
     "data": {
      "image/png": "[encoded data removed]",
      "text/plain": [
       "<Figure size 640x480 with 1 Axes>"
      ]
     },
     "metadata": {},
     "output_type": "display_data"
    }
   ],
   "source": [
    "sns.boxplot(df['age'])\n",
    "plt.show()"
   ]
  },
  {
   "cell_type": "code",
   "execution_count": 29,
   "id": "96d803c0",
   "metadata": {},
   "outputs": [],
   "source": [
    "#Removing outliers by using drop\n",
    "df.drop(df[(df['age'] < 19) | (df['age'] > 46)].index, inplace=True)"
   ]
  },
  {
   "cell_type": "code",
   "execution_count": 30,
   "id": "c3692197",
   "metadata": {},
   "outputs": [
    {
     "data": {
      "text/plain": [
       "<AxesSubplot:xlabel='age'>"
      ]
     },
     "execution_count": 30,
     "metadata": {},
     "output_type": "execute_result"
    },
    {
     "data": {
      "image/png": "[encoded data removed]",
      "text/plain": [
       "<Figure size 640x480 with 1 Axes>"
      ]
     },
     "metadata": {},
     "output_type": "display_data"
    }
   ],
   "source": [
    "sns.boxplot(df['age'])"
   ]
  },
  {
   "cell_type": "code",
   "execution_count": 31,
   "id": "41065eb6",
   "metadata": {},
   "outputs": [
    {
     "data": {
      "text/plain": [
       "(176167, 10)"
      ]
     },
     "execution_count": 31,
     "metadata": {},
     "output_type": "execute_result"
    }
   ],
   "source": [
    "df.shape"
   ]
  },
  {
   "cell_type": "markdown",
   "id": "a9100c85",
   "metadata": {},
   "source": [
    "### 11. Check the distribution of the different categories in the column 'rented for' using appropriate plot. "
   ]
  },
  {
   "cell_type": "code",
   "execution_count": 32,
   "id": "98eb55b3",
   "metadata": {},
   "outputs": [
    {
     "data": {
      "text/plain": [
       "<AxesSubplot:xlabel='rented for', ylabel='count'>"
      ]
     },
     "execution_count": 32,
     "metadata": {},
     "output_type": "execute_result"
    },
    {
     "data": {
      "image/png": "[encoded data removed]",
      "text/plain": [
       "<Figure size 1000x800 with 1 Axes>"
      ]
     },
     "metadata": {},
     "output_type": "display_data"
    }
   ],
   "source": [
    "sns.set(rc={\"figure.figsize\":(10, 8)})\n",
    "sns.countplot( x ='rented for',data=df)"
   ]
  },
  {
   "cell_type": "markdown",
   "id": "76ed0839",
   "metadata": {},
   "source": [
    "##  Data Preparation for model building:"
   ]
  },
  {
   "cell_type": "markdown",
   "id": "85e7a059",
   "metadata": {},
   "source": [
    "### 12. Encode the categorical variables in the dataset."
   ]
  },
  {
   "cell_type": "code",
   "execution_count": 33,
   "id": "db6da78b",
   "metadata": {},
   "outputs": [],
   "source": [
    "df_cat=df[['fit','bust size','rented for','body type','category','height']]"
   ]
  },
  {
   "cell_type": "code",
   "execution_count": 34,
   "id": "31b799f6",
   "metadata": {},
   "outputs": [],
   "source": [
    "## Label encoding\n",
    "le = LabelEncoder()\n",
    "for col in df_cat:\n",
    "    df[col] = le.fit_transform(df[col])"
   ]
  },
  {
   "cell_type": "markdown",
   "id": "a46e57e4",
   "metadata": {},
   "source": [
    "### 13. Standardize the data, so that the values are within a particular range."
   ]
  },
  {
   "cell_type": "code",
   "execution_count": 35,
   "id": "b508f45b",
   "metadata": {},
   "outputs": [
    {
     "data": {
      "text/html": [
       "<div>\n",
       "<style scoped>\n",
       "    .dataframe tbody tr th:only-of-type {\n",
       "        vertical-align: middle;\n",
       "    }\n",
       "\n",
       "    .dataframe tbody tr th {\n",
       "        vertical-align: top;\n",
       "    }\n",
       "\n",
       "    .dataframe thead th {\n",
       "        text-align: right;\n",
       "    }\n",
       "</style>\n",
       "<table border=\"1\" class=\"dataframe\">\n",
       "  <thead>\n",
       "    <tr style=\"text-align: right;\">\n",
       "      <th></th>\n",
       "      <th>fit</th>\n",
       "      <th>bust size</th>\n",
       "      <th>weight</th>\n",
       "      <th>rating</th>\n",
       "      <th>rented for</th>\n",
       "      <th>body type</th>\n",
       "      <th>category</th>\n",
       "      <th>height</th>\n",
       "      <th>size</th>\n",
       "      <th>age</th>\n",
       "    </tr>\n",
       "  </thead>\n",
       "  <tbody>\n",
       "    <tr>\n",
       "      <th>0</th>\n",
       "      <td>-0.556808</td>\n",
       "      <td>0.019155</td>\n",
       "      <td>-0.088149</td>\n",
       "      <td>0.636173</td>\n",
       "      <td>0.496310</td>\n",
       "      <td>0.029320</td>\n",
       "      <td>1.583724</td>\n",
       "      <td>1.043915</td>\n",
       "      <td>0.239601</td>\n",
       "      <td>-0.773552</td>\n",
       "    </tr>\n",
       "    <tr>\n",
       "      <th>1</th>\n",
       "      <td>-0.556808</td>\n",
       "      <td>-0.158125</td>\n",
       "      <td>-0.310747</td>\n",
       "      <td>0.636173</td>\n",
       "      <td>-0.475859</td>\n",
       "      <td>1.892249</td>\n",
       "      <td>-0.304404</td>\n",
       "      <td>0.396179</td>\n",
       "      <td>0.001013</td>\n",
       "      <td>0.689518</td>\n",
       "    </tr>\n",
       "    <tr>\n",
       "      <th>3</th>\n",
       "      <td>-0.556808</td>\n",
       "      <td>-0.069485</td>\n",
       "      <td>-0.177188</td>\n",
       "      <td>-0.768243</td>\n",
       "      <td>-0.961943</td>\n",
       "      <td>0.650296</td>\n",
       "      <td>-0.619093</td>\n",
       "      <td>-0.251558</td>\n",
       "      <td>-0.476163</td>\n",
       "      <td>0.323750</td>\n",
       "    </tr>\n",
       "    <tr>\n",
       "      <th>4</th>\n",
       "      <td>-0.556808</td>\n",
       "      <td>-0.158125</td>\n",
       "      <td>0.268007</td>\n",
       "      <td>0.636173</td>\n",
       "      <td>0.982394</td>\n",
       "      <td>-1.212632</td>\n",
       "      <td>-0.304404</td>\n",
       "      <td>1.367783</td>\n",
       "      <td>0.001013</td>\n",
       "      <td>-0.956436</td>\n",
       "    </tr>\n",
       "    <tr>\n",
       "      <th>5</th>\n",
       "      <td>-0.556808</td>\n",
       "      <td>-1.310440</td>\n",
       "      <td>-0.043630</td>\n",
       "      <td>-0.768243</td>\n",
       "      <td>-1.934112</td>\n",
       "      <td>-1.212632</td>\n",
       "      <td>-0.619093</td>\n",
       "      <td>1.043915</td>\n",
       "      <td>-0.476163</td>\n",
       "      <td>2.335472</td>\n",
       "    </tr>\n",
       "  </tbody>\n",
       "</table>\n",
       "</div>"
      ],
      "text/plain": [
       "        fit  bust size    weight    rating  rented for  body type  category  \\\n",
       "0 -0.556808   0.019155 -0.088149  0.636173    0.496310   0.029320  1.583724   \n",
       "1 -0.556808  -0.158125 -0.310747  0.636173   -0.475859   1.892249 -0.304404   \n",
       "3 -0.556808  -0.069485 -0.177188 -0.768243   -0.961943   0.650296 -0.619093   \n",
       "4 -0.556808  -0.158125  0.268007  0.636173    0.982394  -1.212632 -0.304404   \n",
       "5 -0.556808  -1.310440 -0.043630 -0.768243   -1.934112  -1.212632 -0.619093   \n",
       "\n",
       "     height      size       age  \n",
       "0  1.043915  0.239601 -0.773552  \n",
       "1  0.396179  0.001013  0.689518  \n",
       "3 -0.251558 -0.476163  0.323750  \n",
       "4  1.367783  0.001013 -0.956436  \n",
       "5  1.043915 -0.476163  2.335472  "
      ]
     },
     "execution_count": 35,
     "metadata": {},
     "output_type": "execute_result"
    }
   ],
   "source": [
    "#Standardize the data, so that the values are within a particular range using standard scaler\n",
    "from sklearn.preprocessing import StandardScaler\n",
    "\n",
    "ss=StandardScaler()\n",
    "df.iloc[:,:] = ss.fit_transform(df.iloc[:,:])\n",
    "df.head()"
   ]
  },
  {
   "cell_type": "markdown",
   "id": "6e4b3c95",
   "metadata": {},
   "source": [
    "## Principal Component Analysis and Clustering:"
   ]
  },
  {
   "cell_type": "markdown",
   "id": "0428c010",
   "metadata": {},
   "source": [
    "### 14. Apply PCA on the above dataset and determine the number of PCA components to be used so that 90-95% of the variance in data is explained by the same."
   ]
  },
  {
   "cell_type": "code",
   "execution_count": 36,
   "id": "aefe53e0",
   "metadata": {},
   "outputs": [
    {
     "name": "stdout",
     "output_type": "stream",
     "text": [
      "Covariance matrix \n",
      " [[ 1.00000568e+00  7.26863945e-03  2.00299236e-02 -2.43613859e-01\n",
      "   6.84345517e-03 -9.47111258e-03  5.64979921e-05  2.80585844e-04\n",
      "   6.57624333e-02 -3.24783624e-03]\n",
      " [ 7.26863945e-03  1.00000568e+00  6.06227510e-01 -1.84251892e-02\n",
      "   1.79670663e-03 -2.04012284e-01 -1.38183602e-02  1.41417747e-01\n",
      "   6.03174684e-01  1.34471542e-01]\n",
      " [ 2.00299236e-02  6.06227510e-01  1.00000568e+00 -2.52421221e-02\n",
      "   7.89254454e-03 -2.40812679e-01 -1.77293493e-02  3.78543868e-01\n",
      "   8.82914308e-01  6.74464649e-02]\n",
      " [-2.43613859e-01 -1.84251892e-02 -2.52421221e-02  1.00000568e+00\n",
      "   1.34961260e-02  3.42224228e-03 -2.36508699e-02  1.53127643e-03\n",
      "  -3.75112074e-02 -5.07680827e-02]\n",
      " [ 6.84345517e-03  1.79670663e-03  7.89254454e-03  1.34961260e-02\n",
      "   1.00000568e+00 -1.27050002e-02 -5.92110095e-02 -1.80240221e-02\n",
      "   7.05968876e-03 -7.91124442e-03]\n",
      " [-9.47111258e-03 -2.04012284e-01 -2.40812679e-01  3.42224228e-03\n",
      "  -1.27050002e-02  1.00000568e+00 -3.53937800e-04 -1.29562487e-01\n",
      "  -2.11872303e-01 -4.11443874e-02]\n",
      " [ 5.64979921e-05 -1.38183602e-02 -1.77293493e-02 -2.36508699e-02\n",
      "  -5.92110095e-02 -3.53937800e-04  1.00000568e+00 -4.59056830e-03\n",
      "  -8.96970192e-03  1.98863112e-02]\n",
      " [ 2.80585844e-04  1.41417747e-01  3.78543868e-01  1.53127643e-03\n",
      "  -1.80240221e-02 -1.29562487e-01 -4.59056830e-03  1.00000568e+00\n",
      "   2.30737291e-01 -7.12999158e-03]\n",
      " [ 6.57624333e-02  6.03174684e-01  8.82914308e-01 -3.75112074e-02\n",
      "   7.05968876e-03 -2.11872303e-01 -8.96970192e-03  2.30737291e-01\n",
      "   1.00000568e+00  1.23990272e-01]\n",
      " [-3.24783624e-03  1.34471542e-01  6.74464649e-02 -5.07680827e-02\n",
      "  -7.91124442e-03 -4.11443874e-02  1.98863112e-02 -7.12999158e-03\n",
      "   1.23990272e-01  1.00000568e+00]]\n"
     ]
    }
   ],
   "source": [
    "## Calculating covariance matrix\n",
    "cov_matrix = np.cov(df.T)\n",
    "print('Covariance matrix','\\n',cov_matrix)"
   ]
  },
  {
   "cell_type": "code",
   "execution_count": 37,
   "id": "7181e4dc",
   "metadata": {},
   "outputs": [
    {
     "name": "stdout",
     "output_type": "stream",
     "text": [
      "Covariance matrix \n",
      " [[ 1.00000568e+00  7.26863945e-03  2.00299236e-02 -2.43613859e-01\n",
      "   6.84345517e-03 -9.47111258e-03  5.64979921e-05  2.80585844e-04\n",
      "   6.57624333e-02 -3.24783624e-03]\n",
      " [ 7.26863945e-03  1.00000568e+00  6.06227510e-01 -1.84251892e-02\n",
      "   1.79670663e-03 -2.04012284e-01 -1.38183602e-02  1.41417747e-01\n",
      "   6.03174684e-01  1.34471542e-01]\n",
      " [ 2.00299236e-02  6.06227510e-01  1.00000568e+00 -2.52421221e-02\n",
      "   7.89254454e-03 -2.40812679e-01 -1.77293493e-02  3.78543868e-01\n",
      "   8.82914308e-01  6.74464649e-02]\n",
      " [-2.43613859e-01 -1.84251892e-02 -2.52421221e-02  1.00000568e+00\n",
      "   1.34961260e-02  3.42224228e-03 -2.36508699e-02  1.53127643e-03\n",
      "  -3.75112074e-02 -5.07680827e-02]\n",
      " [ 6.84345517e-03  1.79670663e-03  7.89254454e-03  1.34961260e-02\n",
      "   1.00000568e+00 -1.27050002e-02 -5.92110095e-02 -1.80240221e-02\n",
      "   7.05968876e-03 -7.91124442e-03]\n",
      " [-9.47111258e-03 -2.04012284e-01 -2.40812679e-01  3.42224228e-03\n",
      "  -1.27050002e-02  1.00000568e+00 -3.53937800e-04 -1.29562487e-01\n",
      "  -2.11872303e-01 -4.11443874e-02]\n",
      " [ 5.64979921e-05 -1.38183602e-02 -1.77293493e-02 -2.36508699e-02\n",
      "  -5.92110095e-02 -3.53937800e-04  1.00000568e+00 -4.59056830e-03\n",
      "  -8.96970192e-03  1.98863112e-02]\n",
      " [ 2.80585844e-04  1.41417747e-01  3.78543868e-01  1.53127643e-03\n",
      "  -1.80240221e-02 -1.29562487e-01 -4.59056830e-03  1.00000568e+00\n",
      "   2.30737291e-01 -7.12999158e-03]\n",
      " [ 6.57624333e-02  6.03174684e-01  8.82914308e-01 -3.75112074e-02\n",
      "   7.05968876e-03 -2.11872303e-01 -8.96970192e-03  2.30737291e-01\n",
      "   1.00000568e+00  1.23990272e-01]\n",
      " [-3.24783624e-03  1.34471542e-01  6.74464649e-02 -5.07680827e-02\n",
      "  -7.91124442e-03 -4.11443874e-02  1.98863112e-02 -7.12999158e-03\n",
      "   1.23990272e-01  1.00000568e+00]]\n"
     ]
    }
   ],
   "source": [
    "## Calculating covariance matrix\n",
    "cov_matrix = np.cov(df[~np.isnan(df)].T)\n",
    "print('Covariance matrix','\\n',cov_matrix)"
   ]
  },
  {
   "cell_type": "code",
   "execution_count": 38,
   "id": "397b0cf5",
   "metadata": {},
   "outputs": [
    {
     "name": "stdout",
     "output_type": "stream",
     "text": [
      "Eigen vectors: \n",
      " [[-3.74999123e-02 -3.44188633e-02  5.28759497e-02 -6.84225689e-01\n",
      "  -6.83143749e-01  1.68187530e-01  1.49104489e-01  9.55871269e-02\n",
      "  -9.77153655e-03  3.38823908e-03]\n",
      " [-4.73234080e-01  2.42075281e-02  8.10665653e-01  2.41678327e-02\n",
      "   5.29477734e-02 -3.16228674e-02 -1.73306942e-01  2.37865376e-01\n",
      "  -1.56585412e-01 -5.25634751e-02]\n",
      " [-5.70902511e-01 -7.28490996e-01 -3.30091459e-01  4.16729920e-02\n",
      "   2.51273970e-02  2.45196803e-02  7.39624698e-02  2.91978502e-04\n",
      "  -1.59195270e-01 -2.50582408e-02]\n",
      " [ 3.54791716e-02 -4.00466666e-03  2.78660319e-04  7.02788487e-01\n",
      "  -6.99868154e-01 -2.04033244e-02 -2.19661987e-02  1.05396590e-01\n",
      "  -5.18669242e-02  1.73376625e-02]\n",
      " [-4.29801953e-03  3.02577874e-03  1.47481585e-02  4.17534943e-02\n",
      "   3.44975598e-02  6.53505738e-01 -3.09126727e-01 -1.70114366e-01\n",
      "  -1.57963395e-01  6.48306264e-01]\n",
      " [ 2.36527524e-01 -1.53996168e-02  3.76233009e-02 -4.30470771e-02\n",
      "  -2.17878345e-02 -2.34526801e-02 -6.64666179e-02 -3.29633345e-01\n",
      "  -8.58510391e-01 -2.99012098e-01]\n",
      " [ 1.21086364e-02 -5.64666542e-03  8.16212467e-03 -9.21980192e-02\n",
      "  -4.04009626e-02 -6.72999984e-01  1.12096814e-01  1.14194421e-02\n",
      "  -2.24880459e-01  6.88059492e-01]\n",
      " [-2.66596706e-01  1.28357356e-01  2.07927162e-01  9.26999508e-02\n",
      "  -6.48800451e-02  3.03711153e-02  4.85188532e-01 -7.67039060e-01\n",
      "   1.75148567e-01  3.25257364e-02]\n",
      " [-5.55335767e-01  6.70118763e-01 -4.27806620e-01 -1.36932730e-02\n",
      "  -1.35110965e-02  3.05542856e-03 -4.52779211e-02  1.11017837e-01\n",
      "  -2.07466650e-01 -4.15652879e-02]\n",
      " [-1.08962539e-01 -4.12457657e-02 -5.57945627e-02 -1.21347270e-01\n",
      "  -1.79931466e-01 -2.97010004e-01 -7.69271572e-01 -4.29852666e-01\n",
      "   2.47121499e-01 -1.01864527e-01]]\n",
      "\n",
      "\n",
      "Eigen values: \n",
      " [2.65409407 0.10035994 0.45275967 1.24844824 0.74895521 1.0657789\n",
      " 1.02515849 0.85876155 0.90288485 0.94285585]\n"
     ]
    }
   ],
   "source": [
    "## Calculating eigen values and eigen vectors\n",
    "eig_vals, eig_vecs = np.linalg.eig(cov_matrix)\n",
    "print('Eigen vectors:','\\n',eig_vecs)\n",
    "print('\\n')\n",
    "print('Eigen values:','\\n',eig_vals)"
   ]
  },
  {
   "cell_type": "code",
   "execution_count": 39,
   "id": "13d8074c",
   "metadata": {},
   "outputs": [
    {
     "name": "stdout",
     "output_type": "stream",
     "text": [
      "Variance Explained:  [26.540790012729794, 12.484411537389176, 10.657728484058977, 10.251526705557094, 9.428504961670463, 9.02879720996474, 8.587566726171916, 7.489509606953374, 4.52757102753539, 1.0035937279690579]\n",
      "Cummulative Variance Explained:  [ 26.54079001  39.02520155  49.68293003  59.93445674  69.3629617\n",
      "  78.39175891  86.97932564  94.46883524  98.99640627 100.        ]\n"
     ]
    }
   ],
   "source": [
    "## Calculating the Variance explained and the cummulative variance explained\n",
    "total = sum(eig_vals)\n",
    "var_exp = [ (i/total)*100  for i in sorted(eig_vals,reverse=True)]\n",
    "cum_var_exp = np.cumsum(var_exp)\n",
    "print('Variance Explained: ',var_exp)\n",
    "print('Cummulative Variance Explained: ',cum_var_exp)"
   ]
  },
  {
   "cell_type": "code",
   "execution_count": 40,
   "id": "de041f2e",
   "metadata": {},
   "outputs": [
    {
     "data": {
      "image/png": "[encoded data removed]",
      "text/plain": [
       "<Figure size 1000x800 with 1 Axes>"
      ]
     },
     "metadata": {},
     "output_type": "display_data"
    }
   ],
   "source": [
    "## Scree plot\n",
    "plt.bar(range(10),var_exp, align='center',color='lightgreen',edgecolor='black',label='Indiviual Explained Varinace')\n",
    "plt.step(range(10), cum_var_exp, where='mid',color='red',label='Cummulative explained Variance')\n",
    "plt.legend(loc = 'best')\n",
    "plt.ylabel('Explained Variance Ratio')\n",
    "plt.xlabel('Principal Components')\n",
    "plt.tight_layout()\n",
    "plt.show()"
   ]
  },
  {
   "cell_type": "code",
   "execution_count": 41,
   "id": "96f337d6",
   "metadata": {},
   "outputs": [
    {
     "data": {
      "text/plain": [
       "PCA(n_components=7)"
      ]
     },
     "execution_count": 41,
     "metadata": {},
     "output_type": "execute_result"
    }
   ],
   "source": [
    "# Fitting the PCA model\n",
    "pca=PCA(n_components = 7)\n",
    "pca.fit(df)"
   ]
  },
  {
   "cell_type": "code",
   "execution_count": 42,
   "id": "ad34d428",
   "metadata": {},
   "outputs": [
    {
     "data": {
      "text/html": [
       "<div>\n",
       "<style scoped>\n",
       "    .dataframe tbody tr th:only-of-type {\n",
       "        vertical-align: middle;\n",
       "    }\n",
       "\n",
       "    .dataframe tbody tr th {\n",
       "        vertical-align: top;\n",
       "    }\n",
       "\n",
       "    .dataframe thead th {\n",
       "        text-align: right;\n",
       "    }\n",
       "</style>\n",
       "<table border=\"1\" class=\"dataframe\">\n",
       "  <thead>\n",
       "    <tr style=\"text-align: right;\">\n",
       "      <th></th>\n",
       "      <th>PC1</th>\n",
       "      <th>PC2</th>\n",
       "      <th>PC3</th>\n",
       "      <th>PC4</th>\n",
       "      <th>PC5</th>\n",
       "      <th>PC6</th>\n",
       "      <th>PC7</th>\n",
       "    </tr>\n",
       "  </thead>\n",
       "  <tbody>\n",
       "    <tr>\n",
       "      <th>0</th>\n",
       "      <td>0.218385</td>\n",
       "      <td>-0.885670</td>\n",
       "      <td>0.589398</td>\n",
       "      <td>1.006042</td>\n",
       "      <td>1.515828</td>\n",
       "      <td>0.534272</td>\n",
       "      <td>-0.499262</td>\n",
       "    </tr>\n",
       "    <tr>\n",
       "      <th>1</th>\n",
       "      <td>-0.560301</td>\n",
       "      <td>-0.691088</td>\n",
       "      <td>0.452496</td>\n",
       "      <td>-0.443621</td>\n",
       "      <td>-1.115908</td>\n",
       "      <td>1.194644</td>\n",
       "      <td>-1.170313</td>\n",
       "    </tr>\n",
       "    <tr>\n",
       "      <th>2</th>\n",
       "      <td>-0.574333</td>\n",
       "      <td>0.235158</td>\n",
       "      <td>0.412610</td>\n",
       "      <td>-0.232014</td>\n",
       "      <td>-1.272535</td>\n",
       "      <td>0.048004</td>\n",
       "      <td>-0.207635</td>\n",
       "    </tr>\n",
       "    <tr>\n",
       "      <th>3</th>\n",
       "      <td>0.590447</td>\n",
       "      <td>-1.199549</td>\n",
       "      <td>-1.105863</td>\n",
       "      <td>1.092368</td>\n",
       "      <td>0.942648</td>\n",
       "      <td>-0.911867</td>\n",
       "      <td>-0.432483</td>\n",
       "    </tr>\n",
       "    <tr>\n",
       "      <th>4</th>\n",
       "      <td>-0.084320</td>\n",
       "      <td>0.344008</td>\n",
       "      <td>1.519876</td>\n",
       "      <td>-0.501736</td>\n",
       "      <td>-1.446665</td>\n",
       "      <td>-2.602000</td>\n",
       "      <td>-1.581735</td>\n",
       "    </tr>\n",
       "  </tbody>\n",
       "</table>\n",
       "</div>"
      ],
      "text/plain": [
       "        PC1       PC2       PC3       PC4       PC5       PC6       PC7\n",
       "0  0.218385 -0.885670  0.589398  1.006042  1.515828  0.534272 -0.499262\n",
       "1 -0.560301 -0.691088  0.452496 -0.443621 -1.115908  1.194644 -1.170313\n",
       "2 -0.574333  0.235158  0.412610 -0.232014 -1.272535  0.048004 -0.207635\n",
       "3  0.590447 -1.199549 -1.105863  1.092368  0.942648 -0.911867 -0.432483\n",
       "4 -0.084320  0.344008  1.519876 -0.501736 -1.446665 -2.602000 -1.581735"
      ]
     },
     "execution_count": 42,
     "metadata": {},
     "output_type": "execute_result"
    }
   ],
   "source": [
    "data_pca = pca.transform(df)\n",
    "data_pca = pd.DataFrame(data_pca,columns=['PC1','PC2','PC3','PC4','PC5','PC6','PC7'])\n",
    "data_pca.head()"
   ]
  },
  {
   "cell_type": "markdown",
   "id": "9db41b7e",
   "metadata": {},
   "source": [
    "### 15. Apply K-means clustering and segment the data. (You may use original data or PCA transformed data)"
   ]
  },
  {
   "cell_type": "markdown",
   "id": "24bd739a",
   "metadata": {},
   "source": [
    "#### a. Find the optimal K Value using elbow plot for K Means clustering."
   ]
  },
  {
   "cell_type": "code",
   "execution_count": 43,
   "id": "4ffea892",
   "metadata": {},
   "outputs": [
    {
     "data": {
      "text/html": [
       "<div>\n",
       "<style scoped>\n",
       "    .dataframe tbody tr th:only-of-type {\n",
       "        vertical-align: middle;\n",
       "    }\n",
       "\n",
       "    .dataframe tbody tr th {\n",
       "        vertical-align: top;\n",
       "    }\n",
       "\n",
       "    .dataframe thead th {\n",
       "        text-align: right;\n",
       "    }\n",
       "</style>\n",
       "<table border=\"1\" class=\"dataframe\">\n",
       "  <thead>\n",
       "    <tr style=\"text-align: right;\">\n",
       "      <th></th>\n",
       "      <th>num_clusters</th>\n",
       "      <th>cluster_errors</th>\n",
       "    </tr>\n",
       "  </thead>\n",
       "  <tbody>\n",
       "    <tr>\n",
       "      <th>0</th>\n",
       "      <td>2</td>\n",
       "      <td>141703.073563</td>\n",
       "    </tr>\n",
       "    <tr>\n",
       "      <th>1</th>\n",
       "      <td>3</td>\n",
       "      <td>127735.824713</td>\n",
       "    </tr>\n",
       "    <tr>\n",
       "      <th>2</th>\n",
       "      <td>4</td>\n",
       "      <td>116107.671751</td>\n",
       "    </tr>\n",
       "    <tr>\n",
       "      <th>3</th>\n",
       "      <td>5</td>\n",
       "      <td>106437.573959</td>\n",
       "    </tr>\n",
       "    <tr>\n",
       "      <th>4</th>\n",
       "      <td>6</td>\n",
       "      <td>100593.697827</td>\n",
       "    </tr>\n",
       "    <tr>\n",
       "      <th>5</th>\n",
       "      <td>7</td>\n",
       "      <td>95944.225997</td>\n",
       "    </tr>\n",
       "    <tr>\n",
       "      <th>6</th>\n",
       "      <td>8</td>\n",
       "      <td>91932.056099</td>\n",
       "    </tr>\n",
       "    <tr>\n",
       "      <th>7</th>\n",
       "      <td>9</td>\n",
       "      <td>88579.614802</td>\n",
       "    </tr>\n",
       "    <tr>\n",
       "      <th>8</th>\n",
       "      <td>10</td>\n",
       "      <td>85960.327899</td>\n",
       "    </tr>\n",
       "    <tr>\n",
       "      <th>9</th>\n",
       "      <td>11</td>\n",
       "      <td>82993.620445</td>\n",
       "    </tr>\n",
       "    <tr>\n",
       "      <th>10</th>\n",
       "      <td>12</td>\n",
       "      <td>80795.269256</td>\n",
       "    </tr>\n",
       "    <tr>\n",
       "      <th>11</th>\n",
       "      <td>13</td>\n",
       "      <td>78626.723963</td>\n",
       "    </tr>\n",
       "    <tr>\n",
       "      <th>12</th>\n",
       "      <td>14</td>\n",
       "      <td>76638.574585</td>\n",
       "    </tr>\n",
       "  </tbody>\n",
       "</table>\n",
       "</div>"
      ],
      "text/plain": [
       "    num_clusters  cluster_errors\n",
       "0              2   141703.073563\n",
       "1              3   127735.824713\n",
       "2              4   116107.671751\n",
       "3              5   106437.573959\n",
       "4              6   100593.697827\n",
       "5              7    95944.225997\n",
       "6              8    91932.056099\n",
       "7              9    88579.614802\n",
       "8             10    85960.327899\n",
       "9             11    82993.620445\n",
       "10            12    80795.269256\n",
       "11            13    78626.723963\n",
       "12            14    76638.574585"
      ]
     },
     "execution_count": 43,
     "metadata": {},
     "output_type": "execute_result"
    }
   ],
   "source": [
    "# Using 10% of total data as sample to calcute the results and reduce the omputation time.\n",
    "\n",
    "df_scaled=data_pca.sample(20000)\n",
    "cluster_range = range(2,15)\n",
    "cluster_errors = []\n",
    "\n",
    "for num_clusters in cluster_range:\n",
    "   \n",
    "    clusters = KMeans(num_clusters, n_init=10)\n",
    "    clusters.fit(df_scaled)\n",
    "    \n",
    "    labels = clusters.labels_\n",
    "    centroids = clusters.cluster_centers_\n",
    "    \n",
    "    cluster_errors.append(clusters.inertia_)\n",
    "\n",
    "clusters_df = pd.DataFrame({'num_clusters':cluster_range, \n",
    "                           'cluster_errors':cluster_errors})\n",
    "\n",
    "clusters_df"
   ]
  },
  {
   "cell_type": "markdown",
   "id": "1cf5c351",
   "metadata": {},
   "source": [
    "#### b. Build a Kmeans clustering model using the obtained optimal K value from the elbow plot."
   ]
  },
  {
   "cell_type": "code",
   "execution_count": 44,
   "id": "de6be40c",
   "metadata": {},
   "outputs": [
    {
     "data": {
      "image/png": "[encoded data removed]",
      "text/plain": [
       "<Figure size 1200x600 with 1 Axes>"
      ]
     },
     "metadata": {},
     "output_type": "display_data"
    }
   ],
   "source": [
    "## Elbow method\n",
    "plt.figure(figsize=[12,6])\n",
    "plt.title('The Elbow Method')\n",
    "plt.xlabel('Number of clusters using PCA')\n",
    "plt.plot(clusters_df['num_clusters'],clusters_df['cluster_errors'],marker='o',color='b')\n",
    "plt.show()"
   ]
  },
  {
   "cell_type": "code",
   "execution_count": 45,
   "id": "5bbd0aef",
   "metadata": {},
   "outputs": [
    {
     "data": {
      "text/plain": [
       "KMeans(n_clusters=5, n_init=15, random_state=2345)"
      ]
     },
     "execution_count": 45,
     "metadata": {},
     "output_type": "execute_result"
    }
   ],
   "source": [
    "## Fit the KMeans clustering model using the obtained optimal K\n",
    "kmeans = KMeans(n_clusters=5, n_init=15, random_state=2345)\n",
    "kmeans.fit(df_scaled)"
   ]
  },
  {
   "cell_type": "code",
   "execution_count": 46,
   "id": "57599664",
   "metadata": {},
   "outputs": [
    {
     "data": {
      "text/plain": [
       "array([1, 1, 1, ..., 4, 1, 0])"
      ]
     },
     "execution_count": 46,
     "metadata": {},
     "output_type": "execute_result"
    }
   ],
   "source": [
    "## obtained labels from kmeans clustering\n",
    "kmeans.labels_"
   ]
  },
  {
   "cell_type": "code",
   "execution_count": 47,
   "id": "1ba2f007",
   "metadata": {},
   "outputs": [
    {
     "data": {
      "text/html": [
       "<div>\n",
       "<style scoped>\n",
       "    .dataframe tbody tr th:only-of-type {\n",
       "        vertical-align: middle;\n",
       "    }\n",
       "\n",
       "    .dataframe tbody tr th {\n",
       "        vertical-align: top;\n",
       "    }\n",
       "\n",
       "    .dataframe thead th {\n",
       "        text-align: right;\n",
       "    }\n",
       "</style>\n",
       "<table border=\"1\" class=\"dataframe\">\n",
       "  <thead>\n",
       "    <tr style=\"text-align: right;\">\n",
       "      <th></th>\n",
       "      <th>Labels</th>\n",
       "    </tr>\n",
       "  </thead>\n",
       "  <tbody>\n",
       "    <tr>\n",
       "      <th>0</th>\n",
       "      <td>1</td>\n",
       "    </tr>\n",
       "    <tr>\n",
       "      <th>1</th>\n",
       "      <td>1</td>\n",
       "    </tr>\n",
       "    <tr>\n",
       "      <th>2</th>\n",
       "      <td>1</td>\n",
       "    </tr>\n",
       "    <tr>\n",
       "      <th>3</th>\n",
       "      <td>1</td>\n",
       "    </tr>\n",
       "    <tr>\n",
       "      <th>4</th>\n",
       "      <td>1</td>\n",
       "    </tr>\n",
       "  </tbody>\n",
       "</table>\n",
       "</div>"
      ],
      "text/plain": [
       "   Labels\n",
       "0       1\n",
       "1       1\n",
       "2       1\n",
       "3       1\n",
       "4       1"
      ]
     },
     "execution_count": 47,
     "metadata": {},
     "output_type": "execute_result"
    }
   ],
   "source": [
    "## Creating a new dataframe only for labels.\n",
    "df_labels = pd.DataFrame(kmeans.labels_, columns=list(['Labels']))\n",
    "df_labels.head(5)"
   ]
  },
  {
   "cell_type": "code",
   "execution_count": 48,
   "id": "5d8574a9",
   "metadata": {},
   "outputs": [],
   "source": [
    "df_labels['Labels'] = df_labels['Labels'].astype('category')"
   ]
  },
  {
   "cell_type": "code",
   "execution_count": 49,
   "id": "d09f2b5e",
   "metadata": {},
   "outputs": [
    {
     "data": {
      "text/html": [
       "<div>\n",
       "<style scoped>\n",
       "    .dataframe tbody tr th:only-of-type {\n",
       "        vertical-align: middle;\n",
       "    }\n",
       "\n",
       "    .dataframe tbody tr th {\n",
       "        vertical-align: top;\n",
       "    }\n",
       "\n",
       "    .dataframe thead th {\n",
       "        text-align: right;\n",
       "    }\n",
       "</style>\n",
       "<table border=\"1\" class=\"dataframe\">\n",
       "  <thead>\n",
       "    <tr style=\"text-align: right;\">\n",
       "      <th></th>\n",
       "      <th>fit</th>\n",
       "      <th>bust size</th>\n",
       "      <th>weight</th>\n",
       "      <th>rating</th>\n",
       "      <th>rented for</th>\n",
       "      <th>body type</th>\n",
       "      <th>category</th>\n",
       "      <th>height</th>\n",
       "      <th>size</th>\n",
       "      <th>age</th>\n",
       "      <th>Labels</th>\n",
       "    </tr>\n",
       "  </thead>\n",
       "  <tbody>\n",
       "    <tr>\n",
       "      <th>0</th>\n",
       "      <td>-0.556808</td>\n",
       "      <td>0.019155</td>\n",
       "      <td>-0.088149</td>\n",
       "      <td>0.636173</td>\n",
       "      <td>0.496310</td>\n",
       "      <td>0.029320</td>\n",
       "      <td>1.583724</td>\n",
       "      <td>1.043915</td>\n",
       "      <td>0.239601</td>\n",
       "      <td>-0.773552</td>\n",
       "      <td>1</td>\n",
       "    </tr>\n",
       "    <tr>\n",
       "      <th>1</th>\n",
       "      <td>-0.556808</td>\n",
       "      <td>-0.158125</td>\n",
       "      <td>-0.310747</td>\n",
       "      <td>0.636173</td>\n",
       "      <td>-0.475859</td>\n",
       "      <td>1.892249</td>\n",
       "      <td>-0.304404</td>\n",
       "      <td>0.396179</td>\n",
       "      <td>0.001013</td>\n",
       "      <td>0.689518</td>\n",
       "      <td>1</td>\n",
       "    </tr>\n",
       "    <tr>\n",
       "      <th>3</th>\n",
       "      <td>-0.556808</td>\n",
       "      <td>-0.069485</td>\n",
       "      <td>-0.177188</td>\n",
       "      <td>-0.768243</td>\n",
       "      <td>-0.961943</td>\n",
       "      <td>0.650296</td>\n",
       "      <td>-0.619093</td>\n",
       "      <td>-0.251558</td>\n",
       "      <td>-0.476163</td>\n",
       "      <td>0.323750</td>\n",
       "      <td>1</td>\n",
       "    </tr>\n",
       "    <tr>\n",
       "      <th>4</th>\n",
       "      <td>-0.556808</td>\n",
       "      <td>-0.158125</td>\n",
       "      <td>0.268007</td>\n",
       "      <td>0.636173</td>\n",
       "      <td>0.982394</td>\n",
       "      <td>-1.212632</td>\n",
       "      <td>-0.304404</td>\n",
       "      <td>1.367783</td>\n",
       "      <td>0.001013</td>\n",
       "      <td>-0.956436</td>\n",
       "      <td>1</td>\n",
       "    </tr>\n",
       "    <tr>\n",
       "      <th>5</th>\n",
       "      <td>-0.556808</td>\n",
       "      <td>-1.310440</td>\n",
       "      <td>-0.043630</td>\n",
       "      <td>-0.768243</td>\n",
       "      <td>-1.934112</td>\n",
       "      <td>-1.212632</td>\n",
       "      <td>-0.619093</td>\n",
       "      <td>1.043915</td>\n",
       "      <td>-0.476163</td>\n",
       "      <td>2.335472</td>\n",
       "      <td>3</td>\n",
       "    </tr>\n",
       "  </tbody>\n",
       "</table>\n",
       "</div>"
      ],
      "text/plain": [
       "        fit  bust size    weight    rating  rented for  body type  category  \\\n",
       "0 -0.556808   0.019155 -0.088149  0.636173    0.496310   0.029320  1.583724   \n",
       "1 -0.556808  -0.158125 -0.310747  0.636173   -0.475859   1.892249 -0.304404   \n",
       "3 -0.556808  -0.069485 -0.177188 -0.768243   -0.961943   0.650296 -0.619093   \n",
       "4 -0.556808  -0.158125  0.268007  0.636173    0.982394  -1.212632 -0.304404   \n",
       "5 -0.556808  -1.310440 -0.043630 -0.768243   -1.934112  -1.212632 -0.619093   \n",
       "\n",
       "     height      size       age Labels  \n",
       "0  1.043915  0.239601 -0.773552      1  \n",
       "1  0.396179  0.001013  0.689518      1  \n",
       "3 -0.251558 -0.476163  0.323750      1  \n",
       "4  1.367783  0.001013 -0.956436      1  \n",
       "5  1.043915 -0.476163  2.335472      3  "
      ]
     },
     "execution_count": 49,
     "metadata": {},
     "output_type": "execute_result"
    }
   ],
   "source": [
    "# joining the label dataframe with unscaled initial dataframe.(df)\n",
    "\n",
    "df_kmeans = df.join(df_labels)\n",
    "\n",
    "df_kmeans.head()"
   ]
  },
  {
   "cell_type": "code",
   "execution_count": 50,
   "id": "de1568e3",
   "metadata": {},
   "outputs": [
    {
     "data": {
      "text/plain": [
       "1    6101\n",
       "4    3901\n",
       "0    2897\n",
       "3    2810\n",
       "2    2648\n",
       "Name: Labels, dtype: int64"
      ]
     },
     "execution_count": 50,
     "metadata": {},
     "output_type": "execute_result"
    }
   ],
   "source": [
    "df_kmeans['Labels'].value_counts()"
   ]
  },
  {
   "cell_type": "markdown",
   "id": "de129a27",
   "metadata": {},
   "source": [
    "#### c. Compute silhouette score for evaluating the quality of the K Means clustering technique."
   ]
  },
  {
   "cell_type": "code",
   "execution_count": 51,
   "id": "62aa9a36",
   "metadata": {},
   "outputs": [
    {
     "name": "stdout",
     "output_type": "stream",
     "text": [
      "2 0.18154725420451753\n",
      "3 0.16718466176533378\n",
      "4 0.13907360936268048\n",
      "5 0.14730710303008498\n",
      "6 0.13383873230884402\n",
      "7 0.13134683250456525\n",
      "8 0.12527337743792422\n",
      "9 0.1310078271713664\n"
     ]
    }
   ],
   "source": [
    "from sklearn.metrics import silhouette_score\n",
    "\n",
    "kmeans_score = []\n",
    "\n",
    "for i in range(2,10):\n",
    "    kmeans = KMeans(n_clusters=i)\n",
    "    kmeans = kmeans.fit(df_scaled)\n",
    "    labels = kmeans.predict(df_scaled)\n",
    "    print(i,silhouette_score(df_scaled,labels))"
   ]
  },
  {
   "cell_type": "markdown",
   "id": "ebd6b95c",
   "metadata": {},
   "source": [
    "### 16. Apply Agglomerative clustering and segment the data. (You may use original data or PCA transformed data)"
   ]
  },
  {
   "cell_type": "markdown",
   "id": "6243f5d9",
   "metadata": {},
   "source": [
    "#### a. Find the optimal K Value using dendrogram for Agglomerative clustering."
   ]
  },
  {
   "cell_type": "code",
   "execution_count": 55,
   "id": "7cb214c0",
   "metadata": {},
   "outputs": [
    {
     "data": {
      "image/png": "[encoded data removed]",
      "text/plain": [
       "<Figure size 1400x900 with 1 Axes>"
      ]
     },
     "metadata": {},
     "output_type": "display_data"
    }
   ],
   "source": [
    "plt.figure(figsize=[14,9])\n",
    "merg = linkage(df_scaled, method='ward')\n",
    "dendrogram(merg, leaf_rotation=90,)\n",
    "plt.xlabel('Datapoints')\n",
    "plt.ylabel('Euclidean distance')\n",
    "plt.show()"
   ]
  },
  {
   "cell_type": "markdown",
   "id": "b6dff3e5",
   "metadata": {},
   "source": [
    "#### b. Build a Agglomerative clustering model using the obtained optimal K value observed from dendrogram"
   ]
  },
  {
   "cell_type": "code",
   "execution_count": 52,
   "id": "66c2f187",
   "metadata": {},
   "outputs": [],
   "source": [
    "hie_cluster = AgglomerativeClustering(n_clusters=5 , affinity='euclidean',\n",
    "                                     linkage='ward')\n",
    "\n",
    "hie_cluster_model = hie_cluster.fit(df_scaled)"
   ]
  },
  {
   "cell_type": "code",
   "execution_count": 53,
   "id": "386e5085",
   "metadata": {},
   "outputs": [
    {
     "data": {
      "text/html": [
       "<div>\n",
       "<style scoped>\n",
       "    .dataframe tbody tr th:only-of-type {\n",
       "        vertical-align: middle;\n",
       "    }\n",
       "\n",
       "    .dataframe tbody tr th {\n",
       "        vertical-align: top;\n",
       "    }\n",
       "\n",
       "    .dataframe thead th {\n",
       "        text-align: right;\n",
       "    }\n",
       "</style>\n",
       "<table border=\"1\" class=\"dataframe\">\n",
       "  <thead>\n",
       "    <tr style=\"text-align: right;\">\n",
       "      <th></th>\n",
       "      <th>Labels</th>\n",
       "    </tr>\n",
       "  </thead>\n",
       "  <tbody>\n",
       "    <tr>\n",
       "      <th>0</th>\n",
       "      <td>2</td>\n",
       "    </tr>\n",
       "    <tr>\n",
       "      <th>1</th>\n",
       "      <td>1</td>\n",
       "    </tr>\n",
       "    <tr>\n",
       "      <th>2</th>\n",
       "      <td>1</td>\n",
       "    </tr>\n",
       "    <tr>\n",
       "      <th>3</th>\n",
       "      <td>1</td>\n",
       "    </tr>\n",
       "    <tr>\n",
       "      <th>4</th>\n",
       "      <td>4</td>\n",
       "    </tr>\n",
       "    <tr>\n",
       "      <th>5</th>\n",
       "      <td>4</td>\n",
       "    </tr>\n",
       "    <tr>\n",
       "      <th>6</th>\n",
       "      <td>1</td>\n",
       "    </tr>\n",
       "    <tr>\n",
       "      <th>7</th>\n",
       "      <td>4</td>\n",
       "    </tr>\n",
       "    <tr>\n",
       "      <th>8</th>\n",
       "      <td>0</td>\n",
       "    </tr>\n",
       "    <tr>\n",
       "      <th>9</th>\n",
       "      <td>3</td>\n",
       "    </tr>\n",
       "  </tbody>\n",
       "</table>\n",
       "</div>"
      ],
      "text/plain": [
       "   Labels\n",
       "0       2\n",
       "1       1\n",
       "2       1\n",
       "3       1\n",
       "4       4\n",
       "5       4\n",
       "6       1\n",
       "7       4\n",
       "8       0\n",
       "9       3"
      ]
     },
     "execution_count": 53,
     "metadata": {},
     "output_type": "execute_result"
    }
   ],
   "source": [
    "# Creating a dataframe of the labels\n",
    "df_label1 = pd.DataFrame(hie_cluster_model.labels_,columns=['Labels'])\n",
    "df_label1.head(n=10)"
   ]
  },
  {
   "cell_type": "code",
   "execution_count": 54,
   "id": "a06e207b",
   "metadata": {},
   "outputs": [],
   "source": [
    "## joining the label dataframe with unscaled initial dataframe.(df)\n",
    "df_hier = df.join(df_label1)"
   ]
  },
  {
   "cell_type": "markdown",
   "id": "f943e2a2",
   "metadata": {},
   "source": [
    "#### c. Compute silhoutte score for evaluating the quality of the Agglomerative clustering technique"
   ]
  },
  {
   "cell_type": "code",
   "execution_count": 55,
   "id": "8b3b0fce",
   "metadata": {},
   "outputs": [
    {
     "name": "stdout",
     "output_type": "stream",
     "text": [
      "2 0.14259128271618507\n",
      "3 0.1373370003672527\n",
      "4 0.13206397974366113\n",
      "5 0.09866785736138702\n",
      "6 0.09076874997040857\n",
      "7 0.07076072670933473\n",
      "8 0.05704752441410743\n",
      "9 0.0612958870223159\n"
     ]
    }
   ],
   "source": [
    "from sklearn.metrics import silhouette_score\n",
    "for i in range(2,10):\n",
    "    hier = AgglomerativeClustering(n_clusters=i)\n",
    "    hier = hier.fit(df_scaled)\n",
    "    labels = hier.fit_predict(df_scaled)\n",
    "    print(i,silhouette_score(df_scaled,labels))"
   ]
  },
  {
   "cell_type": "markdown",
   "id": "d83ba971",
   "metadata": {},
   "source": [
    "## Conclusion :"
   ]
  },
  {
   "cell_type": "markdown",
   "id": "7c641a5e",
   "metadata": {},
   "source": [
    "### 17. Perform cluster analysis by doing bivariate analysis between cluster labels and different features and write your conclusion on the results."
   ]
  },
  {
   "cell_type": "code",
   "execution_count": 56,
   "id": "e66c96d4",
   "metadata": {},
   "outputs": [
    {
     "data": {
      "image/png": "[encoded data removed]",
      "text/plain": [
       "<Figure size 1000x800 with 1 Axes>"
      ]
     },
     "metadata": {},
     "output_type": "display_data"
    }
   ],
   "source": [
    "#the below bar plot shows what peple have rented cloth for different purposes\n",
    "sns.barplot(df_kmeans['Labels'],df_kmeans['rented for'])\n",
    "plt.show()"
   ]
  },
  {
   "cell_type": "code",
   "execution_count": 57,
   "id": "1b10fc0a",
   "metadata": {},
   "outputs": [
    {
     "data": {
      "text/plain": [
       "<AxesSubplot:xlabel='Labels', ylabel='category'>"
      ]
     },
     "execution_count": 57,
     "metadata": {},
     "output_type": "execute_result"
    },
    {
     "data": {
      "image/png": "[encoded data removed]",
      "text/plain": [
       "<Figure size 1400x600 with 1 Axes>"
      ]
     },
     "metadata": {},
     "output_type": "display_data"
    }
   ],
   "source": [
    "#This scatter plot shows differnt categories of products\n",
    "sns.set(rc={\"figure.figsize\":(14, 6)})\n",
    "sns.scatterplot(df_hier['Labels'],df_hier['category'])"
   ]
  },
  {
   "cell_type": "code",
   "execution_count": 58,
   "id": "d4ffbe0b",
   "metadata": {},
   "outputs": [
    {
     "data": {
      "image/png": "[encoded data removed]",
      "text/plain": [
       "<Figure size 1800x600 with 1 Axes>"
      ]
     },
     "metadata": {},
     "output_type": "display_data"
    }
   ],
   "source": [
    "#the below bar plot shows what peple have rented cloths for different purposes\n",
    "sns.set(rc={\"figure.figsize\":(18, 6)})\n",
    "sns.countplot(data = df_hier, x = 'rented for', hue = 'Labels')\n",
    "plt.show()"
   ]
  }
 ],
 "metadata": {
  "kernelspec": {
   "display_name": "Python 3 (ipykernel)",
   "language": "python",
   "name": "python3"
  },
  "language_info": {
   "codemirror_mode": {
    "name": "ipython",
    "version": 3
   },
   "file_extension": ".py",
   "mimetype": "text/x-python",
   "name": "python",
   "nbconvert_exporter": "python",
   "pygments_lexer": "ipython3",
   "version": "3.11.2"
  }
 },
 "nbformat": 4,
 "nbformat_minor": 5
}
